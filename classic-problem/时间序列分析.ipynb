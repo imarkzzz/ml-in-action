{
 "cells": [
  {
   "cell_type": "code",
   "execution_count": null,
   "metadata": {},
   "outputs": [],
   "source": [
    "from statsmodels.tsa.stattools import adfuller\n",
    "import statsmodels.api as sm\n",
    "from statsmodels.tsa.api import ExponentialSmoothing"
   ]
  },
  {
   "cell_type": "markdown",
   "metadata": {},
   "source": [
    "# 统计模型与统计要素\n",
    "\n",
    "## 时间序列分析常用统计模型\n",
    "\n",
    "单变量时间序列统计学模型，如：平均方法、平滑方法、有/无季节性条件的 ARIMA 模型。\n",
    "\n",
    "多变量时间序列统计学模型，如：外生回归变量、VAR。\n",
    "\n",
    "附加或组件模型，如：Facebook Prophet、ETS。\n",
    "\n",
    "结构化时间序列模型，如：贝叶斯结构化时间序列模型、分层时间序列模型。\n",
    "\n",
    "在本篇文章中，我们主要关注 SARIMA 和 Holt-winters 方法。\n",
    "## 单变量时间序列统计学模型的关键要素\n",
    "\n",
    "如果我们想要对时间序列数据进行上述统计学模型分析，需要进行一系列处理使得：\n",
    "(1)数据均值 \n",
    "(2)数据方差 \n",
    "(3)数据自协方差 \n",
    "这三个指标不依赖于时间项。即时间序列数据具有平稳性。\n",
    "如何明确时间序列数据是否具有平稳性？\n",
    "可以从两个特征进行判断。\n",
    "(1) 趋势，即均值随时间变化；\n",
    "(2) 季节性，即方差随时间变化、自协方差随时间变化。\n",
    "\n",
    "## 若满足以上两个条件，则时间序列数据不符合平稳性要求。\n",
    "\n",
    "可以通过以下方法消除上述问题：\n",
    "1. 变换，如：取对数、取平方等。\n",
    "2. 平滑处理，如：移动平均等。\n",
    "3. 差分。\n",
    "4. 分解。\n",
    "5. 多项式拟合，如：拟合回归。"
   ]
  },
  {
   "cell_type": "markdown",
   "metadata": {},
   "source": [
    "## ARIMA：差分整合移动平均自回归模型\n",
    "\n",
    "\n",
    "Autoregressive Integrated Moving Average model (ARIMA)，差分整合移动平均自回归模型。ARIMA(p,d,q)主要包含三项：\n",
    "p:AR项，即自回归项(autoregression)，将时间序列下一阶段描述为前一阶段数据的线性映射。 \n",
    "d项，即积分项(integration)，时间序列的差分预处理步骤，使其满足平稳性要求  \n",
    "q:MA项，即移动平均项(moving average)，将时间序列下一阶段描述为前一阶段数据平均过程中的残留误差的线性映射。\n",
    "\n",
    "该模型需要指定 p d q 三项参数，并按照顺序执行。ARIMA 模型也可以用于开发 AR, MA 和 ARMA 模型。\n",
    "\n"
   ]
  },
  {
   "cell_type": "markdown",
   "metadata": {},
   "source": [
    "## ACF 和 PACF 图\n",
    "\n",
    "自相关函数，autocorrelation function(ACF)，描述了时间序列数据与其之后版本的相关性（如：Y(t) 与 Y(t-1) 之间的相关性）。\n",
    "偏自相关函数，partial autocorrelation function(PACF)，描述了各个序列的相关性。\n",
    "通过 PACF 图可以确定 p\n",
    "\n",
    "通过 ACF 图可以确定 q"
   ]
  },
  {
   "cell_type": "markdown",
   "metadata": {},
   "source": [
    "## SARIMA\n",
    "\n",
    "季节性差分自回归滑动平均模型，seasonal autoregressive integrated moving averaging(SARIMA)，在 ARIMA 模型的基础上进行了季节性调节。\n",
    "其形式为：SARIMA(p,d,q)(P,D,Q)s，其中P,D,Q为季节参数，s为时间序列周期。"
   ]
  },
  {
   "cell_type": "markdown",
   "metadata": {},
   "source": [
    "## ETS：指数平滑法\n",
    "\n",
    "ETS，Exponential Smoothing\n",
    "\n",
    "由于时间序列数据随时间变化但具有一定的随机性，我们通常希望对数据进行平滑处理。为此，我们将使用 ETS 技术，通过指数方法为过去的数据分配较少的权重。同时将时间序列数据分解为趋势（T）、季节（S）和误差（E）分量。\n",
    "三种常用 ETS 方法如下：\n",
    "Linear：双指数平滑；\n",
    "\n",
    "Additive：三指数平滑；\n",
    "\n",
    "Multiplicative：三指数平滑。"
   ]
  },
  {
   "cell_type": "markdown",
   "metadata": {},
   "source": [
    "## 总结\n",
    "在本文中，单变量预测方法在广告支出数据上表现良好。但这些方法难以组合/合并新的信号（如事件、天气）。同时这些方法对丢失数据也非常敏感，通常不能很好地预测很长一段时间。"
   ]
  },
  {
   "cell_type": "code",
   "execution_count": null,
   "metadata": {},
   "outputs": [],
   "source": [
    "def test_stationarity(timeseries):\n",
    "    rolmean = timeseries.rolling(window=30).mean()\n",
    "    rolstd = timeseries.rolling(window=30).std()\n",
    "    plt.figure(figsize=(14,5))\n",
    "    sns.despine(left=True)\n",
    "    orig = plt.plot(timeseries, color='blue',label='Original')\n",
    "    mean = plt.plot(rolmean, color='red', label='Rolling Mean')\n",
    "    std = plt.plot(rolstd, color='black', label = 'Rolling Std')\n",
    "    plt.legend(loc='best');\n",
    "    plt.title('Rolling Mean & Standard Deviation')\n",
    "    plt.show()\n",
    "    print ('<Results of Dickey-Fuller Test>')\n",
    "    dftest = adfuller(timeseries, autolag='AIC')\n",
    "    dfoutput = pd.Series(dftest[0:4], index=['Test Statistic','p-value','#Lags Used','Number of Observations Used'])\n",
    "    for key,value in dftest[4].items():\n",
    "        dfoutput['Critical Value (%s)'%key] = value\n",
    "        print(dfoutput)"
   ]
  },
  {
   "cell_type": "code",
   "execution_count": null,
   "metadata": {},
   "outputs": [],
   "source": []
  },
  {
   "cell_type": "code",
   "execution_count": null,
   "metadata": {},
   "outputs": [],
   "source": [
    "df1=df.resample('D', how=np.mean)"
   ]
  },
  {
   "cell_type": "code",
   "execution_count": null,
   "metadata": {},
   "outputs": [],
   "source": [
    "test_stationarity(df1.Spend.dropna())"
   ]
  },
  {
   "cell_type": "code",
   "execution_count": null,
   "metadata": {},
   "outputs": [],
   "source": [
    "fit1 = sm.tsa.statespace.SARIMAX(train.Spend, order=(7, 1, 2), seasonal_order=(0, 1, 2, 7)).fit(use_boxcox=True)\n",
    "test['SARIMA'] = fit1.predict(start=\"2019-07-23\", end=\"2019-09-23\", dynamic=True)\n",
    "plt.figure(figsize=(16, 8)) plt.plot(train['Spend'], label='Train')\n",
    "plt.plot(test['Spend'], label='Test')\n",
    "plt.plot(test['SARIMA'], label='SARIMA')\n",
    "plt.legend(loc='best')\n",
    "plt.show()"
   ]
  },
  {
   "cell_type": "code",
   "execution_count": null,
   "metadata": {},
   "outputs": [],
   "source": [
    "fit1 = ExponentialSmoothing(np.asarray(train['Spend']) ,seasonal_periods=7 ,trend='add', seasonal='add').fit(use_boxcox=True)\n",
    "test['Holt_Winter'] = fit1.forecast(len(test))\n",
    "plt.figure(figsize=(16,8))\n",
    "plt.plot( train['Spend'], label='Train')\n",
    "plt.plot(test['Spend'], label='Test')\n",
    "plt.plot(test['Holt_Winter'], label='Holt_Winter')\n",
    "plt.legend(loc='best')\n",
    "plt.show()\n"
   ]
  }
 ],
 "metadata": {
  "kernelspec": {
   "display_name": "Python 3",
   "language": "python",
   "name": "python3"
  },
  "language_info": {
   "codemirror_mode": {
    "name": "ipython",
    "version": 3
   },
   "file_extension": ".py",
   "mimetype": "text/x-python",
   "name": "python",
   "nbconvert_exporter": "python",
   "pygments_lexer": "ipython3",
   "version": "3.7.7"
  }
 },
 "nbformat": 4,
 "nbformat_minor": 4
}

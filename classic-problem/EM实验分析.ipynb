{
 "cells": [
  {
   "cell_type": "code",
   "execution_count": 5,
   "metadata": {},
   "outputs": [],
   "source": [
    "import numpy as np"
   ]
  },
  {
   "cell_type": "code",
   "execution_count": 13,
   "metadata": {},
   "outputs": [],
   "source": [
    "def generate_3coins(pi, p, q):\n",
    "    # 投掷A硬币，选择硬币B或C\n",
    "    choose_coin = np.random.random()\n",
    "    choose_out = np.random.random()\n",
    "    if choose_coin < pi:\n",
    "        # 选择B\n",
    "        if choose_out < p:\n",
    "            return 1\n",
    "        else:\n",
    "            return 0\n",
    "    else:\n",
    "        # 选择C\n",
    "        # 选择B\n",
    "        if choose_out < q:\n",
    "            return 1\n",
    "        else:\n",
    "            return 0"
   ]
  },
  {
   "cell_type": "code",
   "execution_count": 107,
   "metadata": {},
   "outputs": [],
   "source": [
    "def eval_by_em(samples, pi, p, q, iters=10):\n",
    "    for i in range(iters):\n",
    "        # E step\n",
    "        mus_ = []\n",
    "        for y in samples:\n",
    "            mu_j = pi * p ** y * (1 - p)**(1 - y)\n",
    "            mu_j /= mu_j + (1 - pi) * q ** y * (1 - q) ** (1 - y)\n",
    "            mus_.append(mu_j)\n",
    "        # M step\n",
    "        mus_ = np.array(mus_)\n",
    "        pi = sum(mus_)/len(mus_)\n",
    "        p = sum(mus_ * samples)/sum(mus_)\n",
    "        mus_ = 1 - mus_\n",
    "        q = sum(mus_ * samples)/sum(mus_)\n",
    "        print(i, pi, p, q)\n",
    "    return pi, p, q"
   ]
  },
  {
   "cell_type": "markdown",
   "metadata": {},
   "source": [
    "# 三硬币模型\n",
    "假设有三个硬币，分别记做A，B，C。这些硬币正面出现的概率分别为pi, p, q。\n",
    "\n",
    "进行如下投硬币实验：先掷硬币A，根据其结果选出硬币B或硬币C,正面选硬币B，反面选硬币C;\n",
    "\n",
    "然后掷选出的硬币，掷硬币的结果，出现正面记做1，出现反面记做0."
   ]
  },
  {
   "cell_type": "code",
   "execution_count": 112,
   "metadata": {},
   "outputs": [
    {
     "name": "stdout",
     "output_type": "stream",
     "text": [
      "三硬币模型实验\n",
      "观测结果中出现正面频率:\n",
      "0.6\n",
      "无监督训练(EM)参数估计:\n",
      "0 0.4431239388794568 0.21379310344827576 0.9073170731707318\n",
      "1 0.4431239388794568 0.21379310344827576 0.907317073170732\n",
      "2 0.4431239388794568 0.21379310344827573 0.907317073170732\n",
      "3 0.4431239388794568 0.2137931034482757 0.907317073170732\n",
      "4 0.4431239388794568 0.21379310344827565 0.907317073170732\n",
      "5 0.4431239388794568 0.21379310344827562 0.907317073170732\n",
      "6 0.4431239388794568 0.2137931034482756 0.907317073170732\n",
      "7 0.4431239388794568 0.2137931034482756 0.907317073170732\n",
      "8 0.4431239388794568 0.2137931034482756 0.907317073170732\n",
      "9 0.4431239388794568 0.2137931034482756 0.907317073170732\n",
      "pi: 0.4431239388794568, p: 0.2137931034482756, q: 0.907317073170732\n"
     ]
    }
   ],
   "source": [
    "n = 1000 # 独立地重复n次实验\n",
    "# samples = np.array([generate_3coins(pi=0.7, p=0.9, q=0.01) for _ in range(n)])\n",
    "samples = np.array([1, 1, 0, 1, 0, 0, 1, 0, 1, 1])\n",
    "print(\"三硬币模型实验\")\n",
    "print(\"观测结果中出现正面频率:\")\n",
    "print(sum(samples)/len(samples))\n",
    "print(\"无监督训练(EM)参数估计:\")\n",
    "print(\"pi: %s, p: %s, q: %s\" % eval_by_em(samples, pi=0.6, p=0.1, q=0.8, iters=10))"
   ]
  },
  {
   "cell_type": "markdown",
   "metadata": {},
   "source": [
    "# 结论\n",
    "pi 取0.5，则使用EM算法求pi, p和q时，\n",
    "pi 永远是0.5\n",
    "p恒等于q，等于观测结果中正面出现的频率"
   ]
  },
  {
   "cell_type": "markdown",
   "metadata": {},
   "source": [
    "# 意外收获\n",
    "三硬币模型的EM，M步是解析解，第一轮迭代就得到了最优参数"
   ]
  },
  {
   "cell_type": "code",
   "execution_count": null,
   "metadata": {},
   "outputs": [],
   "source": []
  }
 ],
 "metadata": {
  "kernelspec": {
   "display_name": "Python 3",
   "language": "python",
   "name": "python3"
  },
  "language_info": {
   "codemirror_mode": {
    "name": "ipython",
    "version": 3
   },
   "file_extension": ".py",
   "mimetype": "text/x-python",
   "name": "python",
   "nbconvert_exporter": "python",
   "pygments_lexer": "ipython3",
   "version": "3.7.3"
  }
 },
 "nbformat": 4,
 "nbformat_minor": 2
}

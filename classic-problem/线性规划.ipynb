{
 "cells": [
  {
   "cell_type": "code",
   "execution_count": 1,
   "metadata": {},
   "outputs": [],
   "source": [
    "import numpy as np\n",
    "from scipy import optimize as op"
   ]
  },
  {
   "cell_type": "code",
   "execution_count": 5,
   "metadata": {},
   "outputs": [],
   "source": [
    "# 给出决策变量的范围\n",
    "x1 = (0, None)\n",
    "x2 = (0, None)\n",
    "x3 = (0, None)"
   ]
  },
  {
   "cell_type": "code",
   "execution_count": 6,
   "metadata": {},
   "outputs": [],
   "source": [
    "# 定义目标函数系数和约束条件系数\n",
    "c = np.array([-2, -3, 5]) # 目标函数系数,3x1列向量\n",
    "\n",
    "A_ub = np.array([[-2, 5, -1], [1, 3, 1]]) # 不等式约束系数A，2x3维矩阵\n",
    "\n",
    "B_ub = np.array([-10, 12]) # 等式约束系数b，2x1维列向量\n",
    "A_eq = np.array([[1, 1, 1]]) # 等式约束Aeq，3x1维列向量\n",
    "B_eq = np.array([7]) # 等式约束系数beq，1x1数值"
   ]
  },
  {
   "cell_type": "code",
   "execution_count": 8,
   "metadata": {},
   "outputs": [
    {
     "data": {
      "text/plain": [
       "     con: array([1.80713222e-09])\n",
       "     fun: -14.57142856564506\n",
       " message: 'Optimization terminated successfully.'\n",
       "     nit: 5\n",
       "   slack: array([-2.24583019e-10,  3.85714286e+00])\n",
       "  status: 0\n",
       " success: True\n",
       "       x: array([6.42857143e+00, 5.71428571e-01, 2.35900788e-10])"
      ]
     },
     "execution_count": 8,
     "metadata": {},
     "output_type": "execute_result"
    }
   ],
   "source": [
    "# 求解\n",
    "res = op.linprog(c, A_ub, B_ub, A_eq, B_eq, bounds=(x1, x2, x3)) # 调用函数进行求解\n",
    "res"
   ]
  },
  {
   "cell_type": "code",
   "execution_count": null,
   "metadata": {},
   "outputs": [],
   "source": []
  }
 ],
 "metadata": {
  "kernelspec": {
   "display_name": "Python 3",
   "language": "python",
   "name": "python3"
  },
  "language_info": {
   "codemirror_mode": {
    "name": "ipython",
    "version": 3
   },
   "file_extension": ".py",
   "mimetype": "text/x-python",
   "name": "python",
   "nbconvert_exporter": "python",
   "pygments_lexer": "ipython3",
   "version": "3.7.3"
  }
 },
 "nbformat": 4,
 "nbformat_minor": 4
}

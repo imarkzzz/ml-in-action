{
 "cells": [
  {
   "cell_type": "code",
   "execution_count": 1,
   "metadata": {},
   "outputs": [],
   "source": [
    "import re"
   ]
  },
  {
   "cell_type": "markdown",
   "metadata": {},
   "source": [
    "# 角色关系图谱\n",
    "## 人物说明\n",
    "1. 总共5个角色：林晓芳、张敏(林晓芳的女儿，比张翠山大)、张翠山(林晓芳的儿子)、令狐冲(张敏的儿子，比张无忌大)、张无忌(我)\n",
    "2. *相互间关系全集*：表哥|儿子|舅舅|侄子|孙子|弟弟|表弟|爸爸|外甥|女儿|外婆|姐姐|奶奶|外孙|妈妈|姑妈\n",
    "## 人物关系设定\n",
    "2. 5个角色无其他会引起他们之间的关系会指向5个角色以外的关系的人物，如张无忌的表哥有且只有令狐冲\n",
    "\n",
    "## 关系问答\n",
    "3. 句式：**{关系描述}**是**{某个人}**的谁\n",
    "4. **{关系描述}**从“你”开始描述\n",
    "5. **{某个人}**可以是“你”、“你爸爸”、“你奶奶”、“张翠山”等"
   ]
  },
  {
   "cell_type": "code",
   "execution_count": 2,
   "metadata": {},
   "outputs": [],
   "source": [
    "# 人物 ID\n",
    "starts = {\n",
    "    \"你\": 0,\n",
    "    \"爸爸\": 1,\n",
    "    \"姑妈\": 2,\n",
    "    \"表哥\": 3,\n",
    "    \"奶奶\": 4,\n",
    "    \"张无忌\": 0,\n",
    "    \"张翠山\": 1,\n",
    "    \"张敏\": 2,\n",
    "    \"令狐冲\": 3,\n",
    "    \"林晓芳\": 4,\n",
    "}"
   ]
  },
  {
   "cell_type": "code",
   "execution_count": 3,
   "metadata": {},
   "outputs": [],
   "source": [
    "# 角色关系图谱\n",
    "relation = {\n",
    "    0: {\n",
    "        \"名字\": \"张无忌\",\n",
    "        \"关系\": \"我\",\n",
    "        \"自己\": 0,\n",
    "        \"爸爸\": 1,\n",
    "        \"姑妈\": 2,\n",
    "        \"表哥\": 3,\n",
    "        \"奶奶\": 4,\n",
    "    },\n",
    "    1: {\n",
    "        \"名字\": \"张翠山\",\n",
    "        \"关系\": \"爸爸\",\n",
    "        \"儿子\": 0,\n",
    "        \"自己\": 1,\n",
    "        \"姐姐\": 2,\n",
    "        \"外甥\": 3,\n",
    "        \"妈妈\": 4,\n",
    "    },\n",
    "    2: {\n",
    "        \"名字\": \"张敏\",\n",
    "        \"关系\": \"姑妈\",\n",
    "        \"侄子\": 0,\n",
    "        \"弟弟\": 1,\n",
    "        \"自己\": 2,\n",
    "        \"儿子\": 3,\n",
    "        \"妈妈\": 4,\n",
    "    },\n",
    "    3: {\n",
    "        \"名字\": \"令狐冲\",\n",
    "        \"关系\": \"表哥\",\n",
    "        \"表弟\": 0,\n",
    "        \"舅舅\": 1,\n",
    "        \"自己\": 3,\n",
    "        \"妈妈\": 2,\n",
    "        \"外婆\": 4,\n",
    "    },\n",
    "    4: {\n",
    "        \"名字\": \"林晓芳\",\n",
    "        \"关系\": \"奶奶\",\n",
    "        \"孙子\": 0,\n",
    "        \"儿子\": 1,\n",
    "        \"女儿\": 2,\n",
    "        \"外孙\": 3,\n",
    "        \"自己\": 4,\n",
    "    }\n",
    "}"
   ]
  },
  {
   "cell_type": "code",
   "execution_count": 4,
   "metadata": {},
   "outputs": [],
   "source": [
    "# 人物相互关系\n",
    "rel_pattern = re.compile(\"你|表哥|儿子|舅舅|侄子|孙子|弟弟|表弟|爸爸|外甥|女儿|外婆|姐姐|奶奶|外孙|妈妈|姑妈\")\n",
    "# 问题中的相对谁的关系，如：你的谁；你爸爸的谁；令狐冲的谁\n",
    "whom_patten = re.compile(\"张敏|林晓芳|令狐冲|张无忌|张翠山|你(奶奶|姑妈|表哥|爸爸)?\")\n",
    "\n",
    "def answer(quest):\n",
    "    desc = quest.split(\"是\")[0]\n",
    "    quit = quest.split(\"是\")[1]\n",
    "    whom = whom_patten.search(quit).group(0)\n",
    "    if len(whom) > 1 and whom[0] == \"你\": \n",
    "        whom = whom[1:]\n",
    "    whom = starts[whom]\n",
    "    match = rel_pattern.search(desc)\n",
    "    if not match:\n",
    "        return\n",
    "    start, end = match.span()\n",
    "    who = starts[desc[start:end]]\n",
    "    desc = desc[end:]\n",
    "    state = relation[who]\n",
    "    while True:\n",
    "        match = rel_pattern.search(desc)\n",
    "        if not match:\n",
    "            break\n",
    "        start, end = match.span()\n",
    "        between = desc[start:end]\n",
    "        who = state[between]\n",
    "        desc = desc[end:]\n",
    "        state = relation[who]    \n",
    "    for role_relation, role_id in relation[whom].items():\n",
    "        if role_id == who:\n",
    "            return role_relation"
   ]
  },
  {
   "cell_type": "code",
   "execution_count": 5,
   "metadata": {},
   "outputs": [],
   "source": [
    "quests = [\n",
    "    \"你爸爸的姐姐的儿子的外婆是你的谁\",\n",
    "    \"你爸爸的姐姐的儿子的外婆的孙子是你的谁\",\n",
    "    \"爸爸的妈妈的女儿的儿子是你奶奶的谁\",\n",
    "    \"你爸爸的姐姐的儿子的外婆是张翠山的谁\",\n",
    "]"
   ]
  },
  {
   "cell_type": "code",
   "execution_count": 6,
   "metadata": {},
   "outputs": [
    {
     "name": "stdout",
     "output_type": "stream",
     "text": [
      "你爸爸的姐姐的儿子的外婆是你的谁\n",
      "奶奶\n",
      "\n",
      "你爸爸的姐姐的儿子的外婆的孙子是你的谁\n",
      "自己\n",
      "\n",
      "爸爸的妈妈的女儿的儿子是你奶奶的谁\n",
      "外孙\n",
      "\n",
      "你爸爸的姐姐的儿子的外婆是张翠山的谁\n",
      "妈妈\n",
      "\n"
     ]
    }
   ],
   "source": [
    "for quest in quests:\n",
    "    print(quest)\n",
    "    print(answer(quest))\n",
    "    print()"
   ]
  },
  {
   "cell_type": "code",
   "execution_count": null,
   "metadata": {},
   "outputs": [],
   "source": []
  }
 ],
 "metadata": {
  "kernelspec": {
   "display_name": "Python 3",
   "language": "python",
   "name": "python3"
  },
  "language_info": {
   "codemirror_mode": {
    "name": "ipython",
    "version": 3
   },
   "file_extension": ".py",
   "mimetype": "text/x-python",
   "name": "python",
   "nbconvert_exporter": "python",
   "pygments_lexer": "ipython3",
   "version": "3.7.3"
  }
 },
 "nbformat": 4,
 "nbformat_minor": 2
}

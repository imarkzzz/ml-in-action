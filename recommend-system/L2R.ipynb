{
 "cells": [
  {
   "cell_type": "code",
   "execution_count": 8,
   "metadata": {},
   "outputs": [
    {
     "data": {
      "image/png": "[encoded data removed]",
      "text/plain": [
       "<Figure size 432x288 with 2 Axes>"
      ]
     },
     "metadata": {
      "needs_background": "light"
     },
     "output_type": "display_data"
    }
   ],
   "source": [
    "import pandas as pd\n",
    "import xgboost as xgb\n",
    "import random\n",
    "import matplotlib.pyplot as plt\n",
    "from sklearn.preprocessing import MinMaxScaler\n",
    "\n",
    "def GetLabel(row):\n",
    "    if row.y-row.x<0:\n",
    "        return 0\n",
    "    else:\n",
    "        return 1\n",
    "def DropDuplicate(row):\n",
    "    if row.x==row.y:\n",
    "        return row.y+1\n",
    "    else:\n",
    "        return row.y\n",
    "train = pd.DataFrame({\n",
    "    'x': [random.randrange(20) for i in range(1000)],\n",
    "    'y': [random.randrange(20) for i in range(1000)],\n",
    "})\n",
    "train.y = train.apply(DropDuplicate,axis=1)\n",
    "train['label'] = train.apply(GetLabel,axis=1)\n",
    "\n",
    "\n",
    "test = pd.DataFrame({\n",
    "    'x': [random.randrange(20) for i in range(30)],\n",
    "    'y': [random.randrange(20) for i in range(30)],\n",
    "})\n",
    "test.y = test.apply(DropDuplicate,axis=1)\n",
    "test['label'] = test.apply(GetLabel,axis=1)\n",
    "\n",
    "#可视化\n",
    "train_0 = train[train.label==0]\n",
    "train_1 = train[train.label==1]\n",
    "test_0 = test[test.label==0]\n",
    "test_1 = test[test.label==1]\n",
    "ax1 = plt.subplot(211)\n",
    "ax2 = plt.subplot(212)\n",
    "ax1.scatter(train_0.x, train_0.y, s=30, c='r' ,edgecolors= 'white')\n",
    "ax1.scatter(train_1.x, train_1.y, s=30, c='b' ,edgecolors= 'white')\n",
    "ax2.scatter(test_0.x, test_0.y, s=30, c='r' ,edgecolors= 'white')\n",
    "ax2.scatter(test_1.x, test_1.y, s=30, c='b' ,edgecolors= 'white')\n",
    "plt.show()"
   ]
  },
  {
   "cell_type": "code",
   "execution_count": 2,
   "metadata": {},
   "outputs": [
    {
     "name": "stdout",
     "output_type": "stream",
     "text": [
      "Collecting pandas\n",
      "\u001b[?25l  Downloading https://files.pythonhosted.org/packages/22/e6/2d47835f91eb010036be207581fa113fb4e3822ec1b4bafb0d3d105fede6/pandas-0.24.2-cp37-cp37m-manylinux1_x86_64.whl (10.1MB)\n",
      "\u001b[K     |████████████████████████████████| 10.1MB 108kB/s eta 0:00:01\n",
      "\u001b[?25hCollecting pytz>=2011k (from pandas)\n",
      "\u001b[?25l  Downloading https://files.pythonhosted.org/packages/3d/73/fe30c2daaaa0713420d0382b16fbb761409f532c56bdcc514bf7b6262bb6/pytz-2019.1-py2.py3-none-any.whl (510kB)\n",
      "\u001b[K     |████████████████████████████████| 512kB 151kB/s eta 0:00:01\n",
      "\u001b[?25hCollecting numpy>=1.12.0 (from pandas)\n",
      "\u001b[?25l  Downloading https://files.pythonhosted.org/packages/fc/d1/45be1144b03b6b1e24f9a924f23f66b4ad030d834ad31fb9e5581bd328af/numpy-1.16.4-cp37-cp37m-manylinux1_x86_64.whl (17.3MB)\n",
      "\u001b[K     |████████████████████████████████| 17.3MB 120kB/s eta 0:00:01\n",
      "\u001b[?25hRequirement already satisfied: python-dateutil>=2.5.0 in /home/zhangzhengzhang/.conda/envs/py3/lib/python3.7/site-packages (from pandas) (2.8.0)\n",
      "Requirement already satisfied: six>=1.5 in /home/zhangzhengzhang/.conda/envs/py3/lib/python3.7/site-packages (from python-dateutil>=2.5.0->pandas) (1.12.0)\n",
      "Installing collected packages: pytz, numpy, pandas\n",
      "Successfully installed numpy-1.16.4 pandas-0.24.2 pytz-2019.1\n"
     ]
    }
   ],
   "source": [
    "!pip install pandas"
   ]
  },
  {
   "cell_type": "code",
   "execution_count": 4,
   "metadata": {},
   "outputs": [
    {
     "name": "stdout",
     "output_type": "stream",
     "text": [
      "Collecting xgboost\n",
      "\u001b[?25l  Downloading https://files.pythonhosted.org/packages/c1/24/5fe7237b2eca13ee0cfb100bec8c23f4e69ce9df852a64b0493d49dae4e0/xgboost-0.90-py2.py3-none-manylinux1_x86_64.whl (142.8MB)\n",
      "\u001b[K     |████████████████████████████████| 142.8MB 265kB/s eta 0:00:01    |███                             | 13.7MB 725kB/s eta 0:02:58     |████▌                           | 19.9MB 503kB/s eta 0:04:05     |██████▏                         | 27.4MB 34.4MB/s eta 0:00:04     |███████▉                        | 34.8MB 658kB/s eta 0:02:44     |████████▊                       | 39.1MB 689kB/s eta 0:02:31     |██████████████                  | 62.3MB 638kB/s eta 0:02:07     |███████████████                 | 67.2MB 656kB/s eta 0:01:56     |███████████████▍                | 68.7MB 656kB/s eta 0:01:53     |██████████████████▏             | 81.2MB 705kB/s eta 0:01:28     |███████████████████▎            | 85.9MB 705kB/s eta 0:01:21     |████████████████████            | 88.8MB 824kB/s eta 0:01:06     |████████████████████▍           | 91.1MB 824kB/s eta 0:01:03     |█████████████████████▌          | 95.9MB 702kB/s eta 0:01:07     |█████████████████████▋          | 96.4MB 702kB/s eta 0:01:07     |█████████████████████████▏      | 112.1MB 762kB/s eta 0:00:41     |███████████████████████████     | 120.2MB 1.0MB/s eta 0:00:22\n",
      "\u001b[?25hCollecting scipy (from xgboost)\n",
      "\u001b[?25l  Downloading https://files.pythonhosted.org/packages/5d/bd/c0feba81fb60e231cf40fc8a322ed5873c90ef7711795508692b1481a4ae/scipy-1.3.0-cp37-cp37m-manylinux1_x86_64.whl (25.2MB)\n",
      "\u001b[K     |████████████████████████████████| 25.2MB 1.3MB/s eta 0:00:011     |██████████████████████████▏     | 20.5MB 1.1MB/s eta 0:00:05\n",
      "\u001b[?25hRequirement already satisfied: numpy in /home/zhangzhengzhang/.conda/envs/py3/lib/python3.7/site-packages (from xgboost) (1.16.4)\n",
      "Installing collected packages: scipy, xgboost\n",
      "Successfully installed scipy-1.3.0 xgboost-0.90\n"
     ]
    }
   ],
   "source": [
    "!pip install xgboost"
   ]
  },
  {
   "cell_type": "code",
   "execution_count": 6,
   "metadata": {},
   "outputs": [
    {
     "name": "stdout",
     "output_type": "stream",
     "text": [
      "Collecting matplotlib\n",
      "\u001b[?25l  Downloading https://files.pythonhosted.org/packages/dc/cb/a34046e75c9a4ecaf426ae0d0eada97078c8ce4bbe3250940b1a312a1385/matplotlib-3.1.0-cp37-cp37m-manylinux1_x86_64.whl (13.1MB)\n",
      "\u001b[K     |████████████████████████████████| 13.1MB 95kB/s eta 0:00:011    |█████████████████▎              | 7.1MB 126kB/s eta 0:00:48\n",
      "\u001b[?25hCollecting sklearn\n",
      "  Downloading https://files.pythonhosted.org/packages/1e/7a/dbb3be0ce9bd5c8b7e3d87328e79063f8b263b2b1bfa4774cb1147bfcd3f/sklearn-0.0.tar.gz\n",
      "Collecting pyparsing!=2.0.4,!=2.1.2,!=2.1.6,>=2.0.1 (from matplotlib)\n",
      "\u001b[?25l  Downloading https://files.pythonhosted.org/packages/dd/d9/3ec19e966301a6e25769976999bd7bbe552016f0d32b577dc9d63d2e0c49/pyparsing-2.4.0-py2.py3-none-any.whl (62kB)\n",
      "\u001b[K     |████████████████████████████████| 71kB 96kB/s eta 0:00:011\n",
      "\u001b[?25hRequirement already satisfied: numpy>=1.11 in /home/zhangzhengzhang/.conda/envs/py3/lib/python3.7/site-packages (from matplotlib) (1.16.4)\n",
      "Requirement already satisfied: python-dateutil>=2.1 in /home/zhangzhengzhang/.conda/envs/py3/lib/python3.7/site-packages (from matplotlib) (2.8.0)\n",
      "Collecting kiwisolver>=1.0.1 (from matplotlib)\n",
      "\u001b[?25l  Downloading https://files.pythonhosted.org/packages/93/f8/518fb0bb89860eea6ff1b96483fbd9236d5ee991485d0f3eceff1770f654/kiwisolver-1.1.0-cp37-cp37m-manylinux1_x86_64.whl (90kB)\n",
      "\u001b[K     |████████████████████████████████| 92kB 75kB/s eta 0:00:01\n",
      "\u001b[?25hCollecting cycler>=0.10 (from matplotlib)\n",
      "  Downloading https://files.pythonhosted.org/packages/f7/d2/e07d3ebb2bd7af696440ce7e754c59dd546ffe1bbe732c8ab68b9c834e61/cycler-0.10.0-py2.py3-none-any.whl\n",
      "Collecting scikit-learn (from sklearn)\n",
      "\u001b[?25l  Downloading https://files.pythonhosted.org/packages/21/a4/a48bd4b0d15395362b561df7e7247de87291105eb736a3b2aaffebf437b9/scikit_learn-0.21.2-cp37-cp37m-manylinux1_x86_64.whl (6.7MB)\n",
      "\u001b[K     |████████████████████████████████| 6.7MB 127kB/s eta 0:00:01\n",
      "\u001b[?25hRequirement already satisfied: six>=1.5 in /home/zhangzhengzhang/.conda/envs/py3/lib/python3.7/site-packages (from python-dateutil>=2.1->matplotlib) (1.12.0)\n",
      "Requirement already satisfied: setuptools in /home/zhangzhengzhang/.conda/envs/py3/lib/python3.7/site-packages (from kiwisolver>=1.0.1->matplotlib) (41.0.1)\n",
      "Requirement already satisfied: scipy>=0.17.0 in /home/zhangzhengzhang/.conda/envs/py3/lib/python3.7/site-packages (from scikit-learn->sklearn) (1.3.0)\n",
      "Collecting joblib>=0.11 (from scikit-learn->sklearn)\n",
      "\u001b[?25l  Downloading https://files.pythonhosted.org/packages/cd/c1/50a758e8247561e58cb87305b1e90b171b8c767b15b12a1734001f41d356/joblib-0.13.2-py2.py3-none-any.whl (278kB)\n",
      "\u001b[K     |████████████████████████████████| 286kB 191kB/s eta 0:00:01\n",
      "\u001b[?25hBuilding wheels for collected packages: sklearn\n",
      "  Building wheel for sklearn (setup.py) ... \u001b[?25ldone\n",
      "\u001b[?25h  Stored in directory: /home/zhangzhengzhang/.cache/pip/wheels/76/03/bb/589d421d27431bcd2c6da284d5f2286c8e3b2ea3cf1594c074\n",
      "Successfully built sklearn\n",
      "Installing collected packages: pyparsing, kiwisolver, cycler, matplotlib, joblib, scikit-learn, sklearn\n",
      "Successfully installed cycler-0.10.0 joblib-0.13.2 kiwisolver-1.1.0 matplotlib-3.1.0 pyparsing-2.4.0 scikit-learn-0.21.2 sklearn-0.0\n"
     ]
    }
   ],
   "source": [
    "!pip install matplotlib sklearn"
   ]
  },
  {
   "cell_type": "code",
   "execution_count": 10,
   "metadata": {},
   "outputs": [
    {
     "name": "stdout",
     "output_type": "stream",
     "text": [
      "-------------model train done-----------\n",
      "     x   y  label  labelpre\n",
      "0   13  19      1  0.752779\n",
      "1    3   9      1  0.850479\n",
      "2   18  19      1  0.522710\n",
      "3   15  10      0  0.268538\n",
      "4   19   4      0  0.013182\n",
      "5   12  10      0  0.524157\n",
      "6   18  16      0  0.511862\n",
      "7   13   0      0  0.104972\n",
      "8   12   6      0  0.305272\n",
      "9    8  19      1  0.857577\n",
      "10   5   9      1  0.623780\n",
      "11   4   6      1  0.502757\n",
      "12  16  15      0  0.384362\n",
      "13  16   8      0  0.182675\n",
      "14   3   1      0  0.531277\n",
      "15  18  11      0  0.272550\n",
      "16   0   8      1  0.824645\n",
      "17   7  13      1  0.822505\n",
      "18  14  12      0  0.338989\n",
      "19  15  13      0  0.386647\n",
      "20  10  17      1  0.757003\n",
      "21   5   3      0  0.313330\n",
      "22   6  16      1  0.973646\n",
      "23   1  17      1  1.177797\n",
      "24  19  17      0  0.511862\n",
      "25  13  15      1  0.590466\n",
      "26   0  12      1  0.971700\n",
      "27   1  12      1  0.971700\n",
      "28   3   0      0  0.531277\n",
      "29  14   5      0  0.048413\n"
     ]
    }
   ],
   "source": [
    "train_data = train[['x','y']]\n",
    "train_label = train[['label']]\n",
    "test_data = test[['x','y']]\n",
    "test_compare = test\n",
    "dataset1 = xgb.DMatrix(train_data,label=train_label)\n",
    "dataset2 = xgb.DMatrix(test_data)\n",
    "\n",
    "\n",
    "params={'booster':'gbtree',\n",
    "        'objective': 'rank:pairwise',\n",
    "        'eval_metric':'auc',\n",
    "        'gamma':0.1,\n",
    "        'min_child_weight':1.1,\n",
    "        'max_depth':5,\n",
    "        'lambda':10,\n",
    "        'subsample':0.7,\n",
    "        'colsample_bytree':0.7,\n",
    "        'colsample_bylevel':0.7,\n",
    "        'eta': 0.01,\n",
    "        'tree_method':'exact',\n",
    "        'seed':0,\n",
    "        'nthread':12\n",
    "        }\n",
    "model = xgb.train(params,dataset1,num_boost_round=100)\n",
    "print('-------------model train done-----------')\n",
    "test_compare['labelpre'] = model.predict(dataset2)\n",
    "print(test_compare)"
   ]
  },
  {
   "cell_type": "code",
   "execution_count": null,
   "metadata": {},
   "outputs": [],
   "source": []
  }
 ],
 "metadata": {
  "kernelspec": {
   "display_name": "Python 3",
   "language": "python",
   "name": "python3"
  },
  "language_info": {
   "codemirror_mode": {
    "name": "ipython",
    "version": 3
   },
   "file_extension": ".py",
   "mimetype": "text/x-python",
   "name": "python",
   "nbconvert_exporter": "python",
   "pygments_lexer": "ipython3",
   "version": "3.7.3"
  }
 },
 "nbformat": 4,
 "nbformat_minor": 2
}
